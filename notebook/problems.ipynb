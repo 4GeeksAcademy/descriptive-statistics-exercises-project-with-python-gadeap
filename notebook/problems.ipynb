{
    "cells": [
        {
            "cell_type": "markdown",
            "id": "ac622319",
            "metadata": {},
            "source": [
                "# Descriptive statistics problems"
            ]
        },
        {
            "cell_type": "markdown",
            "id": "aa8993e4",
            "metadata": {},
            "source": [
                "### Exercise 1"
            ]
        },
        {
            "cell_type": "markdown",
            "id": "5e0ab0d5",
            "metadata": {},
            "source": [
                "We will use Numpy to obtain information to describe statistically.\n",
                "\n",
                "- Generate an array of 100 elements following a normal distribution.\n",
                "- Generate an array of 100 elements following a chi-square distribution with 3 degrees of freedom.\n",
                "- Calculate the main metrics and statistical measures that best describe the two vectors."
            ]
        },
        {
            "cell_type": "code",
            "execution_count": 3,
            "id": "34720ab6",
            "metadata": {},
            "outputs": [
                {
                    "name": "stdout",
                    "output_type": "stream",
                    "text": [
                        "Normal vector: [-0.32797785 -2.02323956  0.99802845 -1.69583394  0.83933327  0.73921507\n",
                        " -0.03017964 -0.89974616 -0.75752555  0.76219246 -2.26099143 -0.17539194\n",
                        " -1.12382438 -0.38076872  1.26143739  0.02624858  0.43764839  0.953454\n",
                        "  0.52200512  2.21612549  0.6272176  -0.84305411  0.71100173  0.34846206\n",
                        "  0.17032618  0.68642909 -1.95276968  1.33344568  1.95157935 -1.18946877\n",
                        "  0.16743426  0.28519444 -0.68729742 -1.04237161 -0.38342071  0.85758359\n",
                        " -0.76573186 -1.25101791  1.63136821 -0.16872572 -0.94765698  0.33892423\n",
                        "  1.58371926 -0.07998323  0.1276962   0.9679942  -1.43439845  1.38327743\n",
                        "  0.44797018  0.9452507   1.00026783 -1.62536245 -0.6176086   0.53049693\n",
                        " -0.16156338  0.4685442  -0.33667675  0.90142667  0.3486022   0.79626083\n",
                        " -1.11356251 -0.96284141  0.30587554 -0.65864496 -0.15477088  0.30482629\n",
                        "  0.59125621  0.89706831 -2.57287263  0.54362378 -1.16522852 -0.86585833\n",
                        "  0.2798833   0.09373923  0.14778333  0.78290474 -1.13593747  0.35100696\n",
                        "  0.31000012  1.00213496  1.38242406 -0.30494856  1.07428684 -1.90275544\n",
                        "  0.47759157 -0.93654935  1.4359146  -1.0240026   0.33286297 -1.05751769\n",
                        "  0.93556804  0.24983176 -0.01072906  0.53837908 -1.77475812  0.37677645\n",
                        " -0.82278442 -0.11369282 -0.04794927  0.66025926]\n",
                        "Chi_square vector: [5.35748778 0.31605943 2.14138204 5.84193632 3.06916407 2.3031924\n",
                        " 4.52624155 0.61095531 3.33241025 2.66587202 0.2647128  1.47394099\n",
                        " 7.89646782 8.02539857 6.85427372 4.51325547 3.74214255 2.42014346\n",
                        " 3.24391575 2.02577922 2.50436026 1.72288073 8.16157032 4.74108844\n",
                        " 3.86627393 0.38452586 3.49340774 6.27043868 3.12530657 0.80899267\n",
                        " 4.4725559  1.66023402 8.1422846  5.05439115 4.03485383 2.3479588\n",
                        " 2.30788653 3.34901461 7.08236667 3.58545986 0.9283282  1.50839537\n",
                        " 0.99874819 1.71865275 0.77226911 1.83197154 3.39183078 4.05965024\n",
                        " 1.5044272  4.46529003 3.01912316 0.83458879 5.86658207 4.07407188\n",
                        " 8.09107649 6.9662645  6.21199285 2.8715052  1.61344849 1.21177979\n",
                        " 1.64450518 6.45861052 3.11889742 1.20894438 2.50609691 5.67026168\n",
                        " 0.83746607 4.45985122 2.1804332  7.14920588 1.51916098 2.32409864\n",
                        " 0.7519853  0.92577851 2.3243357  4.78886367 1.08648629 4.56447249\n",
                        " 6.08989697 1.29836648 2.04656744 3.6652718  1.98392758 1.27878644\n",
                        " 2.45996205 2.8163907  4.61503402 7.12210146 0.28139507 2.28321141\n",
                        " 1.4160476  7.09470827 3.15491464 3.87974377 3.06233222 0.76637254\n",
                        " 3.07180436 5.63326217 5.92352622 1.09266701]\n",
                        "Normal mean: 0.006521678419296739\n",
                        "Chi_square mean: 3.342363235844506\n",
                        "Normal median: 0.2100789658163127\n",
                        "Chi_square median: 3.040727689338671\n",
                        "Normal mode: -0.3279778495668558\n",
                        "Chi_square mode: 5.357487777982193\n"
                    ]
                }
            ],
            "source": [
                "import numpy as np\n",
                "import statistics as stats\n",
                "\n",
                "normal = np.random.normal(size = 100)\n",
                "chi_square = np.random.chisquare(3, 100)\n",
                "\n",
                "print(f\"Normal vector: {normal}\")\n",
                "print(f\"Chi_square vector: {chi_square}\")\n",
                "print(f\"Normal mean: {stats.mean(normal)}\")\n",
                "print(f\"Chi_square mean: {stats.mean(chi_square)}\")\n",
                "print(f\"Normal median: {stats.median(normal)}\")\n",
                "print(f\"Chi_square median: {stats.median(chi_square)}\")\n",
                "print(f\"Normal mode: {stats.mode(normal)}\")\n",
                "print(f\"Chi_square mode: {stats.mode(chi_square)}\")"
            ]
        },
        {
            "cell_type": "markdown",
            "id": "46c70c3d",
            "metadata": {},
            "source": [
                "### Exercise 2\n",
                "\n",
                "Write a Python program to calculate the standard deviation of the following data:\n",
                "\n",
                "```py\n",
                "data = [4, 2, 5, 8, 6]\n",
                "```"
            ]
        },
        {
            "cell_type": "code",
            "execution_count": 4,
            "id": "d590308e",
            "metadata": {},
            "outputs": [
                {
                    "name": "stdout",
                    "output_type": "stream",
                    "text": [
                        "Sample Data: [4, 2, 5, 8, 6]\n",
                        "Standard Deviation: 2.23606797749979\n"
                    ]
                }
            ],
            "source": [
                "import math\n",
                "import sys\n",
                "\n",
                "data = [4, 2, 5, 8, 6]\n",
                "def sd_calc(data):\n",
                "    n = len(data)\n",
                "\n",
                "    if (n <= 1):\n",
                "        return 0.0\n",
                "    mean, sd = avg_calc(data), 0.0\n",
                "\n",
                "    for d in data:\n",
                "        sd += (float(d) - mean) ** 2\n",
                "    sd = math.sqrt(sd / float(n - 1))\n",
                "    return sd\n",
                "\n",
                "def avg_calc(data):\n",
                "    n, mean = len(data), 0.0\n",
                "\n",
                "    if (n <= 1):\n",
                "        return data[0]\n",
                "    for d in data:\n",
                "        mean = mean + float(d)\n",
                "\n",
                "    mean = mean / float(n)\n",
                "    return mean\n",
                "\n",
                "print(f\"Sample Data: {data}\")\n",
                "print(f\"Standard Deviation: {sd_calc(data)}\")"
            ]
        }
    ],
    "metadata": {
        "interpreter": {
            "hash": "9248718ffe6ce6938b217e69dbcc175ea21f4c6b28a317e96c05334edae734bb"
        },
        "kernelspec": {
            "display_name": "Python 3.9.12 ('ML-BOOTCAMP')",
            "language": "python",
            "name": "python3"
        },
        "language_info": {
            "codemirror_mode": {
                "name": "ipython",
                "version": 3
            },
            "file_extension": ".py",
            "mimetype": "text/x-python",
            "name": "python",
            "nbconvert_exporter": "python",
            "pygments_lexer": "ipython3",
            "version": "3.11.4"
        }
    },
    "nbformat": 4,
    "nbformat_minor": 5
}
